{
  "nbformat": 4,
  "nbformat_minor": 0,
  "metadata": {
    "colab": {
      "provenance": [],
      "authorship_tag": "ABX9TyNF04hsMiepNP0bUuDyg/Ym",
      "include_colab_link": true
    },
    "kernelspec": {
      "name": "python3",
      "display_name": "Python 3"
    },
    "language_info": {
      "name": "python"
    },
    "accelerator": "GPU",
    "gpuClass": "standard"
  },
  "cells": [
    {
      "cell_type": "markdown",
      "metadata": {
        "id": "view-in-github",
        "colab_type": "text"
      },
      "source": [
        "<a href=\"https://colab.research.google.com/github/sahilfaizal01/Image-Compression-and-Denoising-using-CNN/blob/main/Denoising_Images.ipynb\" target=\"_parent\"><img src=\"https://colab.research.google.com/assets/colab-badge.svg\" alt=\"Open In Colab\"/></a>"
      ]
    },
    {
      "cell_type": "markdown",
      "source": [
        "# **Importing the Libraries**"
      ],
      "metadata": {
        "id": "BpUFgzlEnbHr"
      }
    },
    {
      "cell_type": "code",
      "execution_count": 3,
      "metadata": {
        "id": "QPjDkRwInXCx"
      },
      "outputs": [],
      "source": [
        "import numpy as np\n",
        "import matplotlib.pyplot as plt\n",
        "from keras import Sequential\n",
        "from keras.layers import Dense, Conv2D, MaxPooling2D, UpSampling2D\n",
        "from keras.datasets import mnist"
      ]
    },
    {
      "cell_type": "markdown",
      "source": [
        "# **Loading the Dataset**"
      ],
      "metadata": {
        "id": "Yx8lpKJZn_dF"
      }
    },
    {
      "cell_type": "code",
      "source": [
        "(x_train, _), (x_test, _) = mnist.load_data()"
      ],
      "metadata": {
        "colab": {
          "base_uri": "https://localhost:8080/"
        },
        "id": "fi0f_xaWnXan",
        "outputId": "cee49155-98e2-4ba3-c956-95978d1597b1"
      },
      "execution_count": 4,
      "outputs": [
        {
          "output_type": "stream",
          "name": "stdout",
          "text": [
            "Downloading data from https://storage.googleapis.com/tensorflow/tf-keras-datasets/mnist.npz\n",
            "11490434/11490434 [==============================] - 2s 0us/step\n"
          ]
        }
      ]
    },
    {
      "cell_type": "code",
      "source": [
        "x_train = x_train.astype('float32')/255\n",
        "x_test = x_test.astype('float32')/255"
      ],
      "metadata": {
        "id": "jftOms3FnXdH"
      },
      "execution_count": 5,
      "outputs": []
    },
    {
      "cell_type": "code",
      "source": [
        "x_train = x_train.reshape(len(x_train),28,28,1)\n",
        "x_test = x_test.reshape(len(x_test),28,28,1)\n",
        "x_train.shape"
      ],
      "metadata": {
        "colab": {
          "base_uri": "https://localhost:8080/"
        },
        "id": "LfhdZ6jqnXfb",
        "outputId": "39ba7a48-526e-44a7-98c0-12d555a7f979"
      },
      "execution_count": 8,
      "outputs": [
        {
          "output_type": "execute_result",
          "data": {
            "text/plain": [
              "(60000, 28, 28, 1)"
            ]
          },
          "metadata": {},
          "execution_count": 8
        }
      ]
    },
    {
      "cell_type": "code",
      "source": [
        "x_test.shape"
      ],
      "metadata": {
        "colab": {
          "base_uri": "https://localhost:8080/"
        },
        "id": "Y_zlvZKPnXhq",
        "outputId": "46371df9-82a3-4cf3-83f9-32482393b0d2"
      },
      "execution_count": 9,
      "outputs": [
        {
          "output_type": "execute_result",
          "data": {
            "text/plain": [
              "(10000, 28, 28, 1)"
            ]
          },
          "metadata": {},
          "execution_count": 9
        }
      ]
    },
    {
      "cell_type": "markdown",
      "source": [
        "# **Adding noise to the images**"
      ],
      "metadata": {
        "id": "unf83maGqSvb"
      }
    },
    {
      "cell_type": "code",
      "source": [
        "noise_factor = 0.6\n",
        "x_train_noisy = x_train + noise_factor * np.random.normal(loc=0.0,scale=1.0,size=x_train.shape)\n",
        "x_test_noisy = x_test + noise_factor * np.random.normal(loc=0.0,scale=1.0,size=x_test.shape)"
      ],
      "metadata": {
        "id": "5n2e_yRdnXjt"
      },
      "execution_count": 10,
      "outputs": []
    },
    {
      "cell_type": "code",
      "source": [
        "# clip the values in the range 0 and 1\n",
        "x_train_noisy = np.clip(x_train_noisy,0.,1.)\n",
        "x_test_noisy = np.clip(x_test_noisy,0.,1.)"
      ],
      "metadata": {
        "id": "UX1gcUeknXl-"
      },
      "execution_count": 11,
      "outputs": []
    },
    {
      "cell_type": "markdown",
      "source": [
        "# **EDA**"
      ],
      "metadata": {
        "id": "YhwZfAsbw_zX"
      }
    },
    {
      "cell_type": "code",
      "source": [
        "index = np.random.randint(len(x_test))\n",
        "plt.imshow(x_test[index].reshape(28,28))\n",
        "plt.gray()"
      ],
      "metadata": {
        "colab": {
          "base_uri": "https://localhost:8080/",
          "height": 265
        },
        "id": "L8flr9wInXoV",
        "outputId": "e245da95-93d0-4c33-c26b-3063fcccb35f"
      },
      "execution_count": 12,
      "outputs": [
        {
          "output_type": "display_data",
          "data": {
            "text/plain": [
              "<Figure size 432x288 with 1 Axes>"
            ],
            "image/png": "[encoded data removed]"
          },
          "metadata": {
            "needs_background": "light"
          }
        }
      ]
    },
    {
      "cell_type": "code",
      "source": [
        "plt.imshow(x_test_noisy[index].reshape(28,28))\n",
        "plt.gray()"
      ],
      "metadata": {
        "colab": {
          "base_uri": "https://localhost:8080/",
          "height": 265
        },
        "id": "rAUcc34rnXqQ",
        "outputId": "a19f72da-b958-4d09-fdff-781f7b98f39d"
      },
      "execution_count": 13,
      "outputs": [
        {
          "output_type": "display_data",
          "data": {
            "text/plain": [
              "<Figure size 432x288 with 1 Axes>"
            ],
            "image/png": "[encoded data removed]"
          },
          "metadata": {
            "needs_background": "light"
          }
        }
      ]
    },
    {
      "cell_type": "markdown",
      "source": [
        "# **Model Building**"
      ],
      "metadata": {
        "id": "ng44Ga9Zxd0O"
      }
    },
    {
      "cell_type": "code",
      "source": [
        "model = Sequential()\n",
        "model.add(Conv2D(32,3,activation='relu',padding='same',input_shape=(28,28,1)))\n",
        "model.add(MaxPooling2D(2,padding='same'))\n",
        "model.add(Conv2D(16,3,activation='relu',padding='same'))\n",
        "model.add(MaxPooling2D(2,padding='same'))\n",
        "model.add(Conv2D(16,3,activation='relu',padding='same'))\n",
        "model.add(UpSampling2D(2))\n",
        "model.add(Conv2D(32,3,activation='relu',padding='same'))\n",
        "model.add(UpSampling2D(2))\n",
        "model.add(Conv2D(1,3,activation='sigmoid',padding='same'))\n",
        "model.compile(optimizer='adam',loss='binary_crossentropy')\n",
        "model.summary()"
      ],
      "metadata": {
        "colab": {
          "base_uri": "https://localhost:8080/"
        },
        "id": "TVV7msP5nXtD",
        "outputId": "af48608f-d20d-4258-d109-e50413dafcf8"
      },
      "execution_count": 15,
      "outputs": [
        {
          "output_type": "stream",
          "name": "stdout",
          "text": [
            "Model: \"sequential_1\"\n",
            "_________________________________________________________________\n",
            " Layer (type)                Output Shape              Param #   \n",
            "=================================================================\n",
            " conv2d (Conv2D)             (None, 28, 28, 32)        320       \n",
            "                                                                 \n",
            " max_pooling2d (MaxPooling2D  (None, 14, 14, 32)       0         \n",
            " )                                                               \n",
            "                                                                 \n",
            " conv2d_1 (Conv2D)           (None, 14, 14, 16)        4624      \n",
            "                                                                 \n",
            " max_pooling2d_1 (MaxPooling  (None, 7, 7, 16)         0         \n",
            " 2D)                                                             \n",
            "                                                                 \n",
            " conv2d_2 (Conv2D)           (None, 7, 7, 16)          2320      \n",
            "                                                                 \n",
            " up_sampling2d (UpSampling2D  (None, 14, 14, 16)       0         \n",
            " )                                                               \n",
            "                                                                 \n",
            " conv2d_3 (Conv2D)           (None, 14, 14, 32)        4640      \n",
            "                                                                 \n",
            " up_sampling2d_1 (UpSampling  (None, 28, 28, 32)       0         \n",
            " 2D)                                                             \n",
            "                                                                 \n",
            " conv2d_4 (Conv2D)           (None, 28, 28, 1)         289       \n",
            "                                                                 \n",
            "=================================================================\n",
            "Total params: 12,193\n",
            "Trainable params: 12,193\n",
            "Non-trainable params: 0\n",
            "_________________________________________________________________\n"
          ]
        }
      ]
    },
    {
      "cell_type": "code",
      "source": [
        "model.fit(x_train_noisy,x_train,epochs=20,batch_size=256,validation_data=(x_test_noisy,x_test))"
      ],
      "metadata": {
        "colab": {
          "base_uri": "https://localhost:8080/"
        },
        "id": "Wub9tD6WnXvU",
        "outputId": "eb634d86-aa73-4b91-a755-8df9ed728f1c"
      },
      "execution_count": 16,
      "outputs": [
        {
          "output_type": "stream",
          "name": "stdout",
          "text": [
            "Epoch 1/20\n",
            "235/235 [==============================] - 11s 12ms/step - loss: 0.2332 - val_loss: 0.1491\n",
            "Epoch 2/20\n",
            "235/235 [==============================] - 3s 11ms/step - loss: 0.1420 - val_loss: 0.1343\n",
            "Epoch 3/20\n",
            "235/235 [==============================] - 3s 11ms/step - loss: 0.1326 - val_loss: 0.1280\n",
            "Epoch 4/20\n",
            "235/235 [==============================] - 2s 10ms/step - loss: 0.1279 - val_loss: 0.1245\n",
            "Epoch 5/20\n",
            "235/235 [==============================] - 2s 10ms/step - loss: 0.1250 - val_loss: 0.1223\n",
            "Epoch 6/20\n",
            "235/235 [==============================] - 2s 10ms/step - loss: 0.1232 - val_loss: 0.1208\n",
            "Epoch 7/20\n",
            "235/235 [==============================] - 2s 10ms/step - loss: 0.1218 - val_loss: 0.1200\n",
            "Epoch 8/20\n",
            "235/235 [==============================] - 3s 11ms/step - loss: 0.1206 - val_loss: 0.1186\n",
            "Epoch 9/20\n",
            "235/235 [==============================] - 2s 11ms/step - loss: 0.1197 - val_loss: 0.1177\n",
            "Epoch 10/20\n",
            "235/235 [==============================] - 3s 11ms/step - loss: 0.1189 - val_loss: 0.1172\n",
            "Epoch 11/20\n",
            "235/235 [==============================] - 2s 10ms/step - loss: 0.1182 - val_loss: 0.1165\n",
            "Epoch 12/20\n",
            "235/235 [==============================] - 3s 14ms/step - loss: 0.1176 - val_loss: 0.1159\n",
            "Epoch 13/20\n",
            "235/235 [==============================] - 3s 12ms/step - loss: 0.1170 - val_loss: 0.1154\n",
            "Epoch 14/20\n",
            "235/235 [==============================] - 3s 13ms/step - loss: 0.1164 - val_loss: 0.1147\n",
            "Epoch 15/20\n",
            "235/235 [==============================] - 3s 12ms/step - loss: 0.1160 - val_loss: 0.1144\n",
            "Epoch 16/20\n",
            "235/235 [==============================] - 3s 12ms/step - loss: 0.1156 - val_loss: 0.1141\n",
            "Epoch 17/20\n",
            "235/235 [==============================] - 3s 11ms/step - loss: 0.1152 - val_loss: 0.1138\n",
            "Epoch 18/20\n",
            "235/235 [==============================] - 2s 10ms/step - loss: 0.1148 - val_loss: 0.1133\n",
            "Epoch 19/20\n",
            "235/235 [==============================] - 2s 10ms/step - loss: 0.1145 - val_loss: 0.1134\n",
            "Epoch 20/20\n",
            "235/235 [==============================] - 3s 11ms/step - loss: 0.1143 - val_loss: 0.1131\n"
          ]
        },
        {
          "output_type": "execute_result",
          "data": {
            "text/plain": [
              "<keras.callbacks.History at 0x7f97e274f250>"
            ]
          },
          "metadata": {},
          "execution_count": 16
        }
      ]
    },
    {
      "cell_type": "markdown",
      "source": [
        "# **Model Evaluation**"
      ],
      "metadata": {
        "id": "aEDH_iTvzcH0"
      }
    },
    {
      "cell_type": "code",
      "source": [
        "pred = model.predict(x_test)"
      ],
      "metadata": {
        "colab": {
          "base_uri": "https://localhost:8080/"
        },
        "id": "ywoo6L2BnXxv",
        "outputId": "88d517a8-3189-49c6-d60b-6afce12b630e"
      },
      "execution_count": 17,
      "outputs": [
        {
          "output_type": "stream",
          "name": "stdout",
          "text": [
            "313/313 [==============================] - 1s 2ms/step\n"
          ]
        }
      ]
    },
    {
      "cell_type": "code",
      "source": [
        "index = np.random.randint(len(x_test))\n",
        "plt.imshow(x_test_noisy[index].reshape(28,28))\n",
        "plt.gray()"
      ],
      "metadata": {
        "colab": {
          "base_uri": "https://localhost:8080/",
          "height": 265
        },
        "id": "ryNkJTM6nXzy",
        "outputId": "86e466f0-04fd-4b68-f70b-1defb79f4f87"
      },
      "execution_count": 19,
      "outputs": [
        {
          "output_type": "display_data",
          "data": {
            "text/plain": [
              "<Figure size 432x288 with 1 Axes>"
            ],
            "image/png": "[encoded data removed]"
          },
          "metadata": {
            "needs_background": "light"
          }
        }
      ]
    },
    {
      "cell_type": "code",
      "source": [
        "plt.imshow(pred[index].reshape(28,28))\n",
        "plt.gray()"
      ],
      "metadata": {
        "colab": {
          "base_uri": "https://localhost:8080/",
          "height": 265
        },
        "id": "w_AvzQF_nX2J",
        "outputId": "4471f066-1600-4482-a324-174c3d218948"
      },
      "execution_count": 20,
      "outputs": [
        {
          "output_type": "display_data",
          "data": {
            "text/plain": [
              "<Figure size 432x288 with 1 Axes>"
            ],
            "image/png": "[encoded data removed]"
          },
          "metadata": {
            "needs_background": "light"
          }
        }
      ]
    },
    {
      "cell_type": "code",
      "source": [
        "index = np.random.randint(len(x_test))\n",
        "plt.figure(figsize=(10,4))\n",
        "ax = plt.subplot(1,2,1)\n",
        "plt.imshow(x_test_noisy[index].reshape(28,28))\n",
        "plt.gray()\n",
        "ax.get_xaxis().set_visible(False)\n",
        "ax.get_yaxis().set_visible(False)\n",
        "\n",
        "ax = plt.subplot(1,2,2)\n",
        "plt.imshow(pred[index].reshape(28,28))\n",
        "plt.gray()\n",
        "ax.get_xaxis().set_visible(False)\n",
        "ax.get_yaxis().set_visible(False)\n"
      ],
      "metadata": {
        "colab": {
          "base_uri": "https://localhost:8080/",
          "height": 252
        },
        "id": "_ZY6Li2qnX7F",
        "outputId": "2a2e20e2-7248-4ce9-8b08-0eb42601cf8c"
      },
      "execution_count": 21,
      "outputs": [
        {
          "output_type": "display_data",
          "data": {
            "text/plain": [
              "<Figure size 720x288 with 2 Axes>"
            ],
            "image/png": "[encoded data removed]"
          },
          "metadata": {
            "needs_background": "light"
          }
        }
      ]
    },
    {
      "cell_type": "code",
      "source": [],
      "metadata": {
        "id": "Qj0_TxB6nX9j"
      },
      "execution_count": null,
      "outputs": []
    },
    {
      "cell_type": "code",
      "source": [],
      "metadata": {
        "id": "wJ1SizLhnYAK"
      },
      "execution_count": null,
      "outputs": []
    },
    {
      "cell_type": "code",
      "source": [],
      "metadata": {
        "id": "Nr_nzQ1nnYCa"
      },
      "execution_count": null,
      "outputs": []
    },
    {
      "cell_type": "code",
      "source": [],
      "metadata": {
        "id": "7r5_uh47nYE-"
      },
      "execution_count": null,
      "outputs": []
    }
  ]
}