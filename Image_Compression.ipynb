{
  "nbformat": 4,
  "nbformat_minor": 0,
  "metadata": {
    "colab": {
      "provenance": [],
      "authorship_tag": "ABX9TyNCUUIgDzij7kJA1igq1QHj",
      "include_colab_link": true
    },
    "kernelspec": {
      "name": "python3",
      "display_name": "Python 3"
    },
    "language_info": {
      "name": "python"
    }
  },
  "cells": [
    {
      "cell_type": "markdown",
      "metadata": {
        "id": "view-in-github",
        "colab_type": "text"
      },
      "source": [
        "<a href=\"https://colab.research.google.com/github/sahilfaizal01/Image-Compression-and-Denoising-using-CNN/blob/main/Image_Compression.ipynb\" target=\"_parent\"><img src=\"https://colab.research.google.com/assets/colab-badge.svg\" alt=\"Open In Colab\"/></a>"
      ]
    },
    {
      "cell_type": "markdown",
      "source": [
        "# **Importing the Libraries**\n"
      ],
      "metadata": {
        "id": "J5cfrdSVBjnV"
      }
    },
    {
      "cell_type": "code",
      "execution_count": 1,
      "metadata": {
        "id": "FqxFhBvHBEIL"
      },
      "outputs": [],
      "source": [
        "import numpy as np\n",
        "import matplotlib.pyplot as plt\n",
        "from keras import Sequential\n",
        "from keras.layers import Dense, Conv2D, MaxPooling2D, UpSampling2D\n",
        "from keras.datasets import mnist"
      ]
    },
    {
      "cell_type": "markdown",
      "source": [
        "# **Loading the Dataset**"
      ],
      "metadata": {
        "id": "4s-Pu8LHBph2"
      }
    },
    {
      "cell_type": "code",
      "source": [
        "(x_train, _), (x_test, _) = mnist.load_data()"
      ],
      "metadata": {
        "colab": {
          "base_uri": "https://localhost:8080/"
        },
        "id": "YVZTfGwPBYXC",
        "outputId": "58609cc6-ec86-4603-f37b-ffc38a76dde6"
      },
      "execution_count": 2,
      "outputs": [
        {
          "output_type": "stream",
          "name": "stdout",
          "text": [
            "Downloading data from https://storage.googleapis.com/tensorflow/tf-keras-datasets/mnist.npz\n",
            "11490434/11490434 [==============================] - 0s 0us/step\n"
          ]
        }
      ]
    },
    {
      "cell_type": "code",
      "source": [
        "x_train = x_train.astype('float32')/255\n",
        "x_test = x_test.astype('float32')/255"
      ],
      "metadata": {
        "id": "uyPshSd_BYZZ"
      },
      "execution_count": 3,
      "outputs": []
    },
    {
      "cell_type": "code",
      "source": [
        "x_train = x_train.reshape(len(x_train),28,28,1)\n",
        "x_test = x_test.reshape(len(x_test),28,28,1)\n",
        "x_train.shape"
      ],
      "metadata": {
        "colab": {
          "base_uri": "https://localhost:8080/"
        },
        "id": "cAWsWscRBYb5",
        "outputId": "42617a2f-f746-4807-8203-d26057e08f3d"
      },
      "execution_count": 4,
      "outputs": [
        {
          "output_type": "execute_result",
          "data": {
            "text/plain": [
              "(60000, 28, 28, 1)"
            ]
          },
          "metadata": {},
          "execution_count": 4
        }
      ]
    },
    {
      "cell_type": "code",
      "source": [
        "x_test.shape"
      ],
      "metadata": {
        "colab": {
          "base_uri": "https://localhost:8080/"
        },
        "id": "o-PIpr5SBYeb",
        "outputId": "7b992d9e-281c-43ec-fbfe-afdf9092a811"
      },
      "execution_count": 5,
      "outputs": [
        {
          "output_type": "execute_result",
          "data": {
            "text/plain": [
              "(10000, 28, 28, 1)"
            ]
          },
          "metadata": {},
          "execution_count": 5
        }
      ]
    },
    {
      "cell_type": "markdown",
      "source": [
        "# **Model Building**"
      ],
      "metadata": {
        "id": "GVpxGkCqB4zD"
      }
    },
    {
      "cell_type": "code",
      "source": [
        "model = Sequential()\n",
        "model.add(Conv2D(32,3,activation='relu',padding='same',input_shape=(28,28,1)))\n",
        "model.add(MaxPooling2D(2,padding='same'))\n",
        "model.add(Conv2D(16,3,activation='relu',padding='same'))\n",
        "model.add(MaxPooling2D(2,padding='same'))\n",
        "model.add(Conv2D(16,3,activation='relu',padding='same'))\n",
        "model.add(UpSampling2D(2))\n",
        "model.add(Conv2D(32,3,activation='relu',padding='same'))\n",
        "model.add(UpSampling2D(2))\n",
        "model.add(Conv2D(1,3,activation='sigmoid',padding='same'))\n",
        "model.compile(optimizer='adam',loss='binary_crossentropy')\n",
        "model.summary()"
      ],
      "metadata": {
        "colab": {
          "base_uri": "https://localhost:8080/"
        },
        "id": "7SNgItWQBYgg",
        "outputId": "8625c495-aecb-4e55-dad6-546c69c35d92"
      },
      "execution_count": 6,
      "outputs": [
        {
          "output_type": "stream",
          "name": "stdout",
          "text": [
            "Model: \"sequential\"\n",
            "_________________________________________________________________\n",
            " Layer (type)                Output Shape              Param #   \n",
            "=================================================================\n",
            " conv2d (Conv2D)             (None, 28, 28, 32)        320       \n",
            "                                                                 \n",
            " max_pooling2d (MaxPooling2D  (None, 14, 14, 32)       0         \n",
            " )                                                               \n",
            "                                                                 \n",
            " conv2d_1 (Conv2D)           (None, 14, 14, 16)        4624      \n",
            "                                                                 \n",
            " max_pooling2d_1 (MaxPooling  (None, 7, 7, 16)         0         \n",
            " 2D)                                                             \n",
            "                                                                 \n",
            " conv2d_2 (Conv2D)           (None, 7, 7, 16)          2320      \n",
            "                                                                 \n",
            " up_sampling2d (UpSampling2D  (None, 14, 14, 16)       0         \n",
            " )                                                               \n",
            "                                                                 \n",
            " conv2d_3 (Conv2D)           (None, 14, 14, 32)        4640      \n",
            "                                                                 \n",
            " up_sampling2d_1 (UpSampling  (None, 28, 28, 32)       0         \n",
            " 2D)                                                             \n",
            "                                                                 \n",
            " conv2d_4 (Conv2D)           (None, 28, 28, 1)         289       \n",
            "                                                                 \n",
            "=================================================================\n",
            "Total params: 12,193\n",
            "Trainable params: 12,193\n",
            "Non-trainable params: 0\n",
            "_________________________________________________________________\n"
          ]
        }
      ]
    },
    {
      "cell_type": "code",
      "source": [
        "model.fit(x_train,x_train,epochs=30,batch_size=256,validation_data=(x_test,x_test))"
      ],
      "metadata": {
        "colab": {
          "base_uri": "https://localhost:8080/"
        },
        "id": "ELOjb8kqBYi9",
        "outputId": "c6adfca4-ce80-4030-cc75-7ad847a4d70d"
      },
      "execution_count": 7,
      "outputs": [
        {
          "output_type": "stream",
          "name": "stdout",
          "text": [
            "Epoch 1/30\n",
            "235/235 [==============================] - 139s 585ms/step - loss: 0.1766 - val_loss: 0.0876\n",
            "Epoch 2/30\n",
            "235/235 [==============================] - 136s 578ms/step - loss: 0.0834 - val_loss: 0.0791\n",
            "Epoch 3/30\n",
            "235/235 [==============================] - 138s 588ms/step - loss: 0.0783 - val_loss: 0.0763\n",
            "Epoch 4/30\n",
            "235/235 [==============================] - 139s 592ms/step - loss: 0.0761 - val_loss: 0.0746\n",
            "Epoch 5/30\n",
            "235/235 [==============================] - 137s 583ms/step - loss: 0.0747 - val_loss: 0.0735\n",
            "Epoch 6/30\n",
            "235/235 [==============================] - 143s 608ms/step - loss: 0.0738 - val_loss: 0.0726\n",
            "Epoch 7/30\n",
            "235/235 [==============================] - 145s 616ms/step - loss: 0.0730 - val_loss: 0.0722\n",
            "Epoch 8/30\n",
            "235/235 [==============================] - 141s 601ms/step - loss: 0.0723 - val_loss: 0.0713\n",
            "Epoch 9/30\n",
            "235/235 [==============================] - 137s 582ms/step - loss: 0.0718 - val_loss: 0.0709\n",
            "Epoch 10/30\n",
            "235/235 [==============================] - 139s 590ms/step - loss: 0.0714 - val_loss: 0.0705\n",
            "Epoch 11/30\n",
            "235/235 [==============================] - 138s 586ms/step - loss: 0.0710 - val_loss: 0.0701\n",
            "Epoch 12/30\n",
            "235/235 [==============================] - 137s 583ms/step - loss: 0.0706 - val_loss: 0.0698\n",
            "Epoch 13/30\n",
            "235/235 [==============================] - 136s 577ms/step - loss: 0.0703 - val_loss: 0.0697\n",
            "Epoch 14/30\n",
            "235/235 [==============================] - 137s 583ms/step - loss: 0.0700 - val_loss: 0.0692\n",
            "Epoch 15/30\n",
            "235/235 [==============================] - 136s 580ms/step - loss: 0.0698 - val_loss: 0.0690\n",
            "Epoch 16/30\n",
            "235/235 [==============================] - 135s 574ms/step - loss: 0.0696 - val_loss: 0.0694\n",
            "Epoch 17/30\n",
            "235/235 [==============================] - 136s 581ms/step - loss: 0.0694 - val_loss: 0.0687\n",
            "Epoch 18/30\n",
            "235/235 [==============================] - 137s 582ms/step - loss: 0.0692 - val_loss: 0.0685\n",
            "Epoch 19/30\n",
            "235/235 [==============================] - 135s 576ms/step - loss: 0.0690 - val_loss: 0.0683\n",
            "Epoch 20/30\n",
            "235/235 [==============================] - 137s 583ms/step - loss: 0.0689 - val_loss: 0.0683\n",
            "Epoch 21/30\n",
            "235/235 [==============================] - 137s 582ms/step - loss: 0.0687 - val_loss: 0.0681\n",
            "Epoch 22/30\n",
            "235/235 [==============================] - 137s 584ms/step - loss: 0.0686 - val_loss: 0.0683\n",
            "Epoch 23/30\n",
            "235/235 [==============================] - 135s 574ms/step - loss: 0.0685 - val_loss: 0.0678\n",
            "Epoch 24/30\n",
            "235/235 [==============================] - 136s 580ms/step - loss: 0.0684 - val_loss: 0.0677\n",
            "Epoch 25/30\n",
            "235/235 [==============================] - 136s 580ms/step - loss: 0.0683 - val_loss: 0.0677\n",
            "Epoch 26/30\n",
            "235/235 [==============================] - 135s 576ms/step - loss: 0.0682 - val_loss: 0.0677\n",
            "Epoch 27/30\n",
            "235/235 [==============================] - 136s 580ms/step - loss: 0.0681 - val_loss: 0.0675\n",
            "Epoch 28/30\n",
            "235/235 [==============================] - 136s 580ms/step - loss: 0.0680 - val_loss: 0.0674\n",
            "Epoch 29/30\n",
            "235/235 [==============================] - 136s 580ms/step - loss: 0.0679 - val_loss: 0.0673\n",
            "Epoch 30/30\n",
            "235/235 [==============================] - 139s 591ms/step - loss: 0.0678 - val_loss: 0.0672\n"
          ]
        },
        {
          "output_type": "execute_result",
          "data": {
            "text/plain": [
              "<keras.callbacks.History at 0x7f47da4d9100>"
            ]
          },
          "metadata": {},
          "execution_count": 7
        }
      ]
    },
    {
      "cell_type": "markdown",
      "source": [
        "# **Evaluation**"
      ],
      "metadata": {
        "id": "IFCz6uLuilt-"
      }
    },
    {
      "cell_type": "code",
      "source": [
        "pred = model.predict(x_test)"
      ],
      "metadata": {
        "colab": {
          "base_uri": "https://localhost:8080/"
        },
        "id": "OxoeRdLdil6Z",
        "outputId": "91b65942-cdab-4b89-fdca-f2f2c4a702b4"
      },
      "execution_count": 8,
      "outputs": [
        {
          "output_type": "stream",
          "name": "stdout",
          "text": [
            "313/313 [==============================] - 6s 19ms/step\n"
          ]
        }
      ]
    },
    {
      "cell_type": "code",
      "source": [
        "index = np.random.randint(len(x_test))\n",
        "plt.figure(figsize=(10,4))\n",
        "ax = plt.subplot(1,2,1)\n",
        "plt.imshow(x_test[index].reshape(28,28))\n",
        "plt.gray()\n",
        "ax.get_xaxis().set_visible(False)\n",
        "ax.get_yaxis().set_visible(False)\n",
        "\n",
        "ax = plt.subplot(1,2,2)\n",
        "plt.imshow(pred[index].reshape(28,28))\n",
        "plt.gray()\n",
        "ax.get_xaxis().set_visible(False)\n",
        "ax.get_yaxis().set_visible(False)"
      ],
      "metadata": {
        "colab": {
          "base_uri": "https://localhost:8080/",
          "height": 252
        },
        "id": "E466xmUkBYlk",
        "outputId": "60c540b9-cb88-409d-a037-ab2e25fa2d1a"
      },
      "execution_count": 12,
      "outputs": [
        {
          "output_type": "display_data",
          "data": {
            "text/plain": [
              "<Figure size 720x288 with 2 Axes>"
            ],
            "image/png": "[encoded data removed]"
          },
          "metadata": {
            "needs_background": "light"
          }
        }
      ]
    },
    {
      "cell_type": "code",
      "source": [],
      "metadata": {
        "id": "VHNYPz8aBYnl"
      },
      "execution_count": 7,
      "outputs": []
    },
    {
      "cell_type": "code",
      "source": [],
      "metadata": {
        "id": "ltCxFZf1BYs6"
      },
      "execution_count": 7,
      "outputs": []
    },
    {
      "cell_type": "code",
      "source": [],
      "metadata": {
        "id": "QE7S9zWkBYxm"
      },
      "execution_count": 7,
      "outputs": []
    },
    {
      "cell_type": "code",
      "source": [],
      "metadata": {
        "id": "2Nq0OYwQBY0E"
      },
      "execution_count": 7,
      "outputs": []
    },
    {
      "cell_type": "code",
      "source": [],
      "metadata": {
        "id": "Uvm5esSDBY2j"
      },
      "execution_count": 7,
      "outputs": []
    },
    {
      "cell_type": "code",
      "source": [],
      "metadata": {
        "id": "AkfYl3U0BY47"
      },
      "execution_count": 7,
      "outputs": []
    },
    {
      "cell_type": "code",
      "source": [],
      "metadata": {
        "id": "ifuYzJQWBY7X"
      },
      "execution_count": 7,
      "outputs": []
    },
    {
      "cell_type": "code",
      "source": [],
      "metadata": {
        "id": "DEZ6s9FfBY93"
      },
      "execution_count": 7,
      "outputs": []
    },
    {
      "cell_type": "code",
      "source": [],
      "metadata": {
        "id": "6N_nrhpeBZAZ"
      },
      "execution_count": 7,
      "outputs": []
    },
    {
      "cell_type": "code",
      "source": [],
      "metadata": {
        "id": "KeSfwraNBZC3"
      },
      "execution_count": 7,
      "outputs": []
    },
    {
      "cell_type": "code",
      "source": [],
      "metadata": {
        "id": "S3HQO91LBZFb"
      },
      "execution_count": 7,
      "outputs": []
    },
    {
      "cell_type": "code",
      "source": [],
      "metadata": {
        "id": "HwDu3VpRBZHo"
      },
      "execution_count": 7,
      "outputs": []
    },
    {
      "cell_type": "code",
      "source": [],
      "metadata": {
        "id": "ze6lCa9oBZJ9"
      },
      "execution_count": 7,
      "outputs": []
    },
    {
      "cell_type": "code",
      "source": [],
      "metadata": {
        "id": "_5WWB6ABBZMr"
      },
      "execution_count": 7,
      "outputs": []
    }
  ]
}